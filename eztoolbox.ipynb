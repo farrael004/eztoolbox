{
 "cells": [
  {
   "cell_type": "markdown",
   "id": "cd1c710c",
   "metadata": {
    "id": "b5Cf_N7IxeJj",
    "papermill": {
     "duration": 0.007548,
     "end_time": "2022-09-23T01:29:47.159284",
     "exception": false,
     "start_time": "2022-09-23T01:29:47.151736",
     "status": "completed"
    },
    "tags": []
   },
   "source": [
    "<div id=\"job_title\"> \n",
    "    <h1  style=\"color:Green; font-family:Baskerville\"><b>This is a notebook for referencing everyday tools for ML engineering</h1>\n",
    "</div>"
   ]
  },
  {
   "cell_type": "markdown",
   "id": "9c28ec68",
   "metadata": {
    "papermill": {
     "duration": 0.005907,
     "end_time": "2022-09-23T01:29:47.172236",
     "exception": false,
     "start_time": "2022-09-23T01:29:47.166329",
     "status": "completed"
    },
    "tags": []
   },
   "source": [
    "<div id=\"job_title\"> \n",
    "    <h2  style=\"font-family:Baskerville\"><b>All dependencies</h2>\n",
    "</div>"
   ]
  },
  {
   "cell_type": "code",
   "execution_count": 1,
   "id": "73a42be0",
   "metadata": {
    "execution": {
     "iopub.execute_input": "2022-09-23T01:29:47.186772Z",
     "iopub.status.busy": "2022-09-23T01:29:47.186048Z",
     "iopub.status.idle": "2022-09-23T01:29:49.289684Z",
     "shell.execute_reply": "2022-09-23T01:29:49.288561Z"
    },
    "papermill": {
     "duration": 2.114578,
     "end_time": "2022-09-23T01:29:49.292761",
     "exception": false,
     "start_time": "2022-09-23T01:29:47.178183",
     "status": "completed"
    },
    "tags": []
   },
   "outputs": [
    {
     "data": {
      "text/html": [
       "<style type='text/css'>\n",
       ".datatable table.frame { margin-bottom: 0; }\n",
       ".datatable table.frame thead { border-bottom: none; }\n",
       ".datatable table.frame tr.coltypes td {  color: #FFFFFF;  line-height: 6px;  padding: 0 0.5em;}\n",
       ".datatable .bool    { background: #DDDD99; }\n",
       ".datatable .object  { background: #565656; }\n",
       ".datatable .int     { background: #5D9E5D; }\n",
       ".datatable .float   { background: #4040CC; }\n",
       ".datatable .str     { background: #CC4040; }\n",
       ".datatable .time    { background: #40CC40; }\n",
       ".datatable .row_index {  background: var(--jp-border-color3);  border-right: 1px solid var(--jp-border-color0);  color: var(--jp-ui-font-color3);  font-size: 9px;}\n",
       ".datatable .frame tbody td { text-align: left; }\n",
       ".datatable .frame tr.coltypes .row_index {  background: var(--jp-border-color0);}\n",
       ".datatable th:nth-child(2) { padding-left: 12px; }\n",
       ".datatable .hellipsis {  color: var(--jp-cell-editor-border-color);}\n",
       ".datatable .vellipsis {  background: var(--jp-layout-color0);  color: var(--jp-cell-editor-border-color);}\n",
       ".datatable .na {  color: var(--jp-cell-editor-border-color);  font-size: 80%;}\n",
       ".datatable .sp {  opacity: 0.25;}\n",
       ".datatable .footer { font-size: 9px; }\n",
       ".datatable .frame_dimensions {  background: var(--jp-border-color3);  border-top: 1px solid var(--jp-border-color0);  color: var(--jp-ui-font-color3);  display: inline-block;  opacity: 0.6;  padding: 1px 10px 1px 5px;}\n",
       "</style>\n"
      ],
      "text/plain": [
       "<IPython.core.display.HTML object>"
      ]
     },
     "metadata": {},
     "output_type": "display_data"
    }
   ],
   "source": [
    "import pandas as pd\n",
    "from sklearn.model_selection import train_test_split\n",
    "from sklearn.preprocessing import StandardScaler\n",
    "from sklearn.decomposition import PCA\n",
    "from sklearn.metrics import mean_absolute_error, mean_squared_error, r2_score\n",
    "import numpy as np\n",
    "from sklearn.ensemble import RandomForestRegressor\n",
    "from sklearn.ensemble import GradientBoostingRegressor\n",
    "from lightgbm import LGBMRegressor\n",
    "import plotly.graph_objects as go"
   ]
  },
  {
   "cell_type": "markdown",
   "id": "6d305652",
   "metadata": {
    "id": "p8J4OTAWPicW",
    "papermill": {
     "duration": 0.006486,
     "end_time": "2022-09-23T01:29:49.306288",
     "exception": false,
     "start_time": "2022-09-23T01:29:49.299802",
     "status": "completed"
    },
    "tags": []
   },
   "source": [
    "<div id=\"job_title\"> \n",
    "    <h2  style=\"font-family:Baskerville\"><b>Data preprocessing</h2>\n",
    "</div>"
   ]
  },
  {
   "cell_type": "markdown",
   "id": "15adb0bc",
   "metadata": {
    "id": "pF1K473gxvmz",
    "papermill": {
     "duration": 0.006202,
     "end_time": "2022-09-23T01:29:49.319234",
     "exception": false,
     "start_time": "2022-09-23T01:29:49.313032",
     "status": "completed"
    },
    "tags": []
   },
   "source": [
    "<div id=\"job_title\"> \n",
    "    <h2  style=\"font-family:Baskerville\">Reading CSV files</h2>\n",
    "</div>"
   ]
  },
  {
   "cell_type": "code",
   "execution_count": 2,
   "id": "44458c10",
   "metadata": {
    "execution": {
     "iopub.execute_input": "2022-09-23T01:29:49.333746Z",
     "iopub.status.busy": "2022-09-23T01:29:49.333332Z",
     "iopub.status.idle": "2022-09-23T01:29:49.355621Z",
     "shell.execute_reply": "2022-09-23T01:29:49.354520Z"
    },
    "id": "sJ8BDhnRIXSP",
    "papermill": {
     "duration": 0.032415,
     "end_time": "2022-09-23T01:29:49.358050",
     "exception": false,
     "start_time": "2022-09-23T01:29:49.325635",
     "status": "completed"
    },
    "tags": []
   },
   "outputs": [],
   "source": [
    "import pandas as pd\n",
    "df1 = pd.read_csv('../input/the-boston-houseprice-data/boston.csv')"
   ]
  },
  {
   "cell_type": "markdown",
   "id": "2419e8fa",
   "metadata": {
    "id": "dgA4ijolmFio",
    "papermill": {
     "duration": 0.005939,
     "end_time": "2022-09-23T01:29:49.370465",
     "exception": false,
     "start_time": "2022-09-23T01:29:49.364526",
     "status": "completed"
    },
    "tags": []
   },
   "source": [
    "<div id=\"job_title\"> \n",
    "    <h2  style=\"font-family:Baskerville\">Removing NA values</h2>\n",
    "</div>"
   ]
  },
  {
   "cell_type": "code",
   "execution_count": 3,
   "id": "949fee8d",
   "metadata": {
    "execution": {
     "iopub.execute_input": "2022-09-23T01:29:49.385353Z",
     "iopub.status.busy": "2022-09-23T01:29:49.384264Z",
     "iopub.status.idle": "2022-09-23T01:29:49.397120Z",
     "shell.execute_reply": "2022-09-23T01:29:49.396291Z"
    },
    "id": "46mdrAT8mFio",
    "papermill": {
     "duration": 0.022568,
     "end_time": "2022-09-23T01:29:49.399372",
     "exception": false,
     "start_time": "2022-09-23T01:29:49.376804",
     "status": "completed"
    },
    "tags": []
   },
   "outputs": [],
   "source": [
    "df1 =df1.dropna()"
   ]
  },
  {
   "cell_type": "markdown",
   "id": "6b0ad90f",
   "metadata": {
    "id": "i-v1edZFO2nF",
    "papermill": {
     "duration": 0.005728,
     "end_time": "2022-09-23T01:29:49.411437",
     "exception": false,
     "start_time": "2022-09-23T01:29:49.405709",
     "status": "completed"
    },
    "tags": []
   },
   "source": [
    "<div id=\"job_title\"> \n",
    "    <h2  style=\"font-family:Baskerville\">Separating training and test data</h2>\n",
    "</div>"
   ]
  },
  {
   "cell_type": "code",
   "execution_count": 4,
   "id": "e3ccd260",
   "metadata": {
    "execution": {
     "iopub.execute_input": "2022-09-23T01:29:49.425778Z",
     "iopub.status.busy": "2022-09-23T01:29:49.425088Z",
     "iopub.status.idle": "2022-09-23T01:29:49.434058Z",
     "shell.execute_reply": "2022-09-23T01:29:49.433175Z"
    },
    "id": "JboHJx2XF1_W",
    "papermill": {
     "duration": 0.018762,
     "end_time": "2022-09-23T01:29:49.436247",
     "exception": false,
     "start_time": "2022-09-23T01:29:49.417485",
     "status": "completed"
    },
    "tags": []
   },
   "outputs": [],
   "source": [
    "X = df1.copy()\n",
    "X.pop('MEDV') #X.drop(df1.columns[-1],axis = 1)\n",
    "y = df1.MEDV.copy()"
   ]
  },
  {
   "cell_type": "code",
   "execution_count": 5,
   "id": "51d64253",
   "metadata": {
    "execution": {
     "iopub.execute_input": "2022-09-23T01:29:49.451654Z",
     "iopub.status.busy": "2022-09-23T01:29:49.451021Z",
     "iopub.status.idle": "2022-09-23T01:29:49.459409Z",
     "shell.execute_reply": "2022-09-23T01:29:49.458583Z"
    },
    "id": "HYpl7pdcNlh_",
    "papermill": {
     "duration": 0.018937,
     "end_time": "2022-09-23T01:29:49.461480",
     "exception": false,
     "start_time": "2022-09-23T01:29:49.442543",
     "status": "completed"
    },
    "tags": []
   },
   "outputs": [],
   "source": [
    "from sklearn.model_selection import train_test_split\n",
    "  \n",
    "X_train, X_test, y_train, y_test = train_test_split(X, y, test_size=0.2, random_state=1)\n",
    "\n",
    "X_train, X_val, y_train, y_val = train_test_split(X_train, y_train, test_size=0.25, random_state=1) # 0.25 x 0.8 = 0.2"
   ]
  },
  {
   "cell_type": "markdown",
   "id": "9f3f306c",
   "metadata": {
    "id": "i8_74gHVO9LK",
    "papermill": {
     "duration": 0.005853,
     "end_time": "2022-09-23T01:29:49.473552",
     "exception": false,
     "start_time": "2022-09-23T01:29:49.467699",
     "status": "completed"
    },
    "tags": []
   },
   "source": [
    "<div id=\"job_title\"> \n",
    "    <h2  style=\"font-family:Baskerville\">Standardizing data</h2>\n",
    "</div>"
   ]
  },
  {
   "cell_type": "code",
   "execution_count": 6,
   "id": "1b42ac18",
   "metadata": {
    "execution": {
     "iopub.execute_input": "2022-09-23T01:29:49.487658Z",
     "iopub.status.busy": "2022-09-23T01:29:49.487037Z",
     "iopub.status.idle": "2022-09-23T01:29:49.500172Z",
     "shell.execute_reply": "2022-09-23T01:29:49.499375Z"
    },
    "id": "aahXmUvANVK0",
    "papermill": {
     "duration": 0.023101,
     "end_time": "2022-09-23T01:29:49.502643",
     "exception": false,
     "start_time": "2022-09-23T01:29:49.479542",
     "status": "completed"
    },
    "tags": []
   },
   "outputs": [],
   "source": [
    "from sklearn.preprocessing import StandardScaler\n",
    "sc = StandardScaler()\n",
    "  \n",
    "X_train = sc.fit_transform(X_train) #Create standardization and apply to train data\n",
    "X_test = sc.transform(X_test)       #Apply created standardization to new data\n",
    "X_val = sc.transform(X_val)         #Apply created standardization to new data"
   ]
  },
  {
   "cell_type": "markdown",
   "id": "2c9d8e79",
   "metadata": {
    "id": "pta0aoi1O_y_",
    "papermill": {
     "duration": 0.005876,
     "end_time": "2022-09-23T01:29:49.515143",
     "exception": false,
     "start_time": "2022-09-23T01:29:49.509267",
     "status": "completed"
    },
    "tags": []
   },
   "source": [
    "<div id=\"job_title\"> \n",
    "    <h2  style=\"font-family:Baskerville\">Principal component analysis</h2>\n",
    "</div>"
   ]
  },
  {
   "cell_type": "code",
   "execution_count": 7,
   "id": "95a10f0e",
   "metadata": {
    "execution": {
     "iopub.execute_input": "2022-09-23T01:29:49.529338Z",
     "iopub.status.busy": "2022-09-23T01:29:49.528708Z",
     "iopub.status.idle": "2022-09-23T01:29:49.554016Z",
     "shell.execute_reply": "2022-09-23T01:29:49.553041Z"
    },
    "id": "EEBS3lIHLCFk",
    "papermill": {
     "duration": 0.035266,
     "end_time": "2022-09-23T01:29:49.556435",
     "exception": false,
     "start_time": "2022-09-23T01:29:49.521169",
     "status": "completed"
    },
    "tags": []
   },
   "outputs": [],
   "source": [
    "from sklearn.decomposition import PCA\n",
    "  \n",
    "pca = PCA(n_components = 0.9, svd_solver='full')\n",
    "  \n",
    "X_train = pca.fit_transform(X_train) #Create PCA and apply to train data\n",
    "X_test = pca.transform(X_test)       #Apply created PCA to new data\n",
    "X_val = pca.transform(X_val)         #Apply created normalization to new data"
   ]
  },
  {
   "cell_type": "markdown",
   "id": "751c7d2c",
   "metadata": {
    "id": "eyQ2zd_XmFir",
    "papermill": {
     "duration": 0.005631,
     "end_time": "2022-09-23T01:29:49.568327",
     "exception": false,
     "start_time": "2022-09-23T01:29:49.562696",
     "status": "completed"
    },
    "tags": []
   },
   "source": [
    "<div id=\"job_title\"> \n",
    "    <h2  style=\"font-family:Baskerville\"><b>Model training</h2>\n",
    "</div>"
   ]
  },
  {
   "cell_type": "markdown",
   "id": "3557fcac",
   "metadata": {
    "id": "UdRAOMZImFir",
    "papermill": {
     "duration": 0.005913,
     "end_time": "2022-09-23T01:29:49.580236",
     "exception": false,
     "start_time": "2022-09-23T01:29:49.574323",
     "status": "completed"
    },
    "tags": []
   },
   "source": [
    "<div id=\"job_title\"> \n",
    "    <h2  style=\"font-family:Baskerville\">Function to calculate model resuts</h2>\n",
    "</div>"
   ]
  },
  {
   "cell_type": "code",
   "execution_count": 8,
   "id": "4f890524",
   "metadata": {
    "execution": {
     "iopub.execute_input": "2022-09-23T01:29:49.594297Z",
     "iopub.status.busy": "2022-09-23T01:29:49.593667Z",
     "iopub.status.idle": "2022-09-23T01:29:49.600499Z",
     "shell.execute_reply": "2022-09-23T01:29:49.599706Z"
    },
    "id": "gh18kKDAmFis",
    "papermill": {
     "duration": 0.016538,
     "end_time": "2022-09-23T01:29:49.602693",
     "exception": false,
     "start_time": "2022-09-23T01:29:49.586155",
     "status": "completed"
    },
    "tags": []
   },
   "outputs": [],
   "source": [
    "from sklearn.metrics import mean_absolute_error, mean_squared_error, r2_score\n",
    "import numpy as np\n",
    "\n",
    "def calculate_results(y_true, y_pred):\n",
    "    model_mae = mean_absolute_error(y_true, y_pred)\n",
    "    model_mse = mean_squared_error(y_truey_true, y_pred)\n",
    "    model_rmse = np.sqrt(mean_squared_error(y_true, y_pred))\n",
    "    model_r2 = r2_score(y_true, y_pred)\n",
    "    model_rmsle = np.log(np.sqrt(mean_squared_error(y_true, y_pred)))\n",
    "    \n",
    "    \n",
    "    model_results = {\"Mean Absolute Error (MAE)\": model_mae,\n",
    "                     \"Mean Squared Error (MSE)\": model_mse,\n",
    "                     \"Root Mean Squared Error (RMSE)\": model_rmse,\n",
    "                     \"Adjusted R^2 Score\": model_r2,\n",
    "                     \"Root Mean Squared Log Error\": model_rmsle}\n",
    "    return model_results"
   ]
  },
  {
   "cell_type": "markdown",
   "id": "98149dc2",
   "metadata": {
    "id": "RkapHMMWmLKz",
    "papermill": {
     "duration": 0.005919,
     "end_time": "2022-09-23T01:29:49.614871",
     "exception": false,
     "start_time": "2022-09-23T01:29:49.608952",
     "status": "completed"
    },
    "tags": []
   },
   "source": [
    "<div id=\"job_title\"> \n",
    "    <h2  style=\"font-family:Baskerville\">Example models</h2>\n",
    "</div>"
   ]
  },
  {
   "cell_type": "markdown",
   "id": "fb44f2bb",
   "metadata": {
    "id": "hP7R7a62yqV2",
    "papermill": {
     "duration": 0.005621,
     "end_time": "2022-09-23T01:29:49.626582",
     "exception": false,
     "start_time": "2022-09-23T01:29:49.620961",
     "status": "completed"
    },
    "tags": []
   },
   "source": [
    "<div id=\"job_title\"> \n",
    "    <h3  style=\"font-family:Baskerville\">Random Forest</h3>\n",
    "</div>"
   ]
  },
  {
   "cell_type": "code",
   "execution_count": 9,
   "id": "4701dbc1",
   "metadata": {
    "execution": {
     "iopub.execute_input": "2022-09-23T01:29:49.640743Z",
     "iopub.status.busy": "2022-09-23T01:29:49.640055Z",
     "iopub.status.idle": "2022-09-23T01:29:49.882727Z",
     "shell.execute_reply": "2022-09-23T01:29:49.881606Z"
    },
    "id": "gB1l6mCcmFis",
    "papermill": {
     "duration": 0.25313,
     "end_time": "2022-09-23T01:29:49.885595",
     "exception": false,
     "start_time": "2022-09-23T01:29:49.632465",
     "status": "completed"
    },
    "tags": []
   },
   "outputs": [],
   "source": [
    "from sklearn.ensemble import RandomForestRegressor\n",
    "\n",
    "rf = RandomForestRegressor()\n",
    "model = rf.fit(X_train, y_train)\n",
    "y_pred = model.predict(X_val)\n",
    "rf_results = calculate_results(y_val, y_pred)\n",
    "results = pd.DataFrame(rf_results, index=['Random Forest']).T\n",
    "\n",
    "predictions = pd.DataFrame(y_val.reset_index(drop=True)).rename(columns={'MEDV':'Validation'})\n",
    "\n",
    "data = {\n",
    "    'Random Forest':y_pred\n",
    "}\n",
    "predictions['Random Forest'] = pd.DataFrame(data)"
   ]
  },
  {
   "cell_type": "markdown",
   "id": "b012a516",
   "metadata": {
    "id": "wjvrZbgtyunt",
    "papermill": {
     "duration": 0.00577,
     "end_time": "2022-09-23T01:29:49.897550",
     "exception": false,
     "start_time": "2022-09-23T01:29:49.891780",
     "status": "completed"
    },
    "tags": []
   },
   "source": [
    "<div id=\"job_title\"> \n",
    "    <h3  style=\"font-family:Baskerville\">Gradient Boosting</h3>\n",
    "</div>"
   ]
  },
  {
   "cell_type": "code",
   "execution_count": 10,
   "id": "4f95d56c",
   "metadata": {
    "execution": {
     "iopub.execute_input": "2022-09-23T01:29:49.911507Z",
     "iopub.status.busy": "2022-09-23T01:29:49.911052Z",
     "iopub.status.idle": "2022-09-23T01:30:09.004348Z",
     "shell.execute_reply": "2022-09-23T01:30:09.003258Z"
    },
    "id": "M2ZovBP_mFit",
    "papermill": {
     "duration": 19.103814,
     "end_time": "2022-09-23T01:30:09.007357",
     "exception": false,
     "start_time": "2022-09-23T01:29:49.903543",
     "status": "completed"
    },
    "tags": []
   },
   "outputs": [],
   "source": [
    "from sklearn.ensemble import GradientBoostingRegressor\n",
    "\n",
    "gbr = GradientBoostingRegressor(n_estimators=6000,\n",
    "                                learning_rate=0.01,\n",
    "                                max_depth=4,\n",
    "                                max_features='sqrt',\n",
    "                                min_samples_leaf=15,\n",
    "                                min_samples_split=10,\n",
    "                                loss='huber',\n",
    "                                random_state=42) \n",
    "\n",
    "#xgboost.fit(X_train, y_train)\n",
    "model = gbr.fit(X_train, y_train)\n",
    "y_pred = model.predict(X_val)\n",
    "gbr_results = calculate_results(y_val, y_pred)\n",
    "results['Gradient Boosting'] = pd.DataFrame(gbr_results, index=['Gradient Boosting']).T\n",
    "\n",
    "data = {\n",
    "    'Gradient Boosting':y_pred\n",
    "}\n",
    "predictions['Gradient Boosting'] = pd.DataFrame(data)"
   ]
  },
  {
   "cell_type": "markdown",
   "id": "6f554e8b",
   "metadata": {
    "id": "4v2XWJ9Gyy8x",
    "papermill": {
     "duration": 0.005651,
     "end_time": "2022-09-23T01:30:09.019417",
     "exception": false,
     "start_time": "2022-09-23T01:30:09.013766",
     "status": "completed"
    },
    "tags": []
   },
   "source": [
    "<div id=\"job_title\"> \n",
    "    <h3  style=\"font-family:Baskerville\">LGBM</h3>\n",
    "</div>"
   ]
  },
  {
   "cell_type": "code",
   "execution_count": 11,
   "id": "47ac754c",
   "metadata": {
    "execution": {
     "iopub.execute_input": "2022-09-23T01:30:09.033164Z",
     "iopub.status.busy": "2022-09-23T01:30:09.032787Z",
     "iopub.status.idle": "2022-09-23T01:30:10.528164Z",
     "shell.execute_reply": "2022-09-23T01:30:10.527255Z"
    },
    "id": "PU5qmYJfmFit",
    "papermill": {
     "duration": 1.505809,
     "end_time": "2022-09-23T01:30:10.531378",
     "exception": false,
     "start_time": "2022-09-23T01:30:09.025569",
     "status": "completed"
    },
    "tags": []
   },
   "outputs": [
    {
     "name": "stdout",
     "output_type": "stream",
     "text": [
      "[LightGBM] [Warning] bagging_fraction is set=0.8, subsample=1.0 will be ignored. Current value: bagging_fraction=0.8\n",
      "[LightGBM] [Warning] feature_fraction is set=0.2, colsample_bytree=1.0 will be ignored. Current value: feature_fraction=0.2\n",
      "[LightGBM] [Warning] min_sum_hessian_in_leaf is set=11, min_child_weight=0.001 will be ignored. Current value: min_sum_hessian_in_leaf=11\n",
      "[LightGBM] [Warning] bagging_freq is set=4, subsample_freq=0 will be ignored. Current value: bagging_freq=4\n"
     ]
    }
   ],
   "source": [
    "from lightgbm import LGBMRegressor\n",
    "\n",
    "lightgbm = LGBMRegressor(objective='regression', \n",
    "                       num_leaves=6,\n",
    "                       learning_rate=0.01, \n",
    "                       n_estimators=7000,\n",
    "                       max_bin=200, \n",
    "                       bagging_fraction=0.8,\n",
    "                       bagging_freq=4, \n",
    "                       bagging_seed=8,\n",
    "                       feature_fraction=0.2,\n",
    "                       feature_fraction_seed=8,\n",
    "                       min_sum_hessian_in_leaf = 11,\n",
    "                       verbose=-1,\n",
    "                       random_state=42)\n",
    "\n",
    "y_pred = lightgbm.fit(X_train, y_train).predict(X_val)\n",
    "lightgbm_results = calculate_results(y_val, y_pred)\n",
    "results['LGBM'] = pd.DataFrame(lightgbm_results, index=['LGBM']).T\n",
    "\n",
    "data = {\n",
    "    'LGBM':y_pred\n",
    "}\n",
    "\n",
    "predictions['LGBM'] = pd.DataFrame(data)"
   ]
  },
  {
   "cell_type": "markdown",
   "id": "9a3414cf",
   "metadata": {
    "id": "iDp2eLNO2rBG",
    "papermill": {
     "duration": 0.009088,
     "end_time": "2022-09-23T01:30:10.550738",
     "exception": false,
     "start_time": "2022-09-23T01:30:10.541650",
     "status": "completed"
    },
    "tags": []
   },
   "source": [
    "<div id=\"job_title\"> \n",
    "    <h2  style=\"font-family:Baskerville\"><b>Visualizing results</h2>\n",
    "</div>"
   ]
  },
  {
   "cell_type": "code",
   "execution_count": 12,
   "id": "ca4ed707",
   "metadata": {
    "execution": {
     "iopub.execute_input": "2022-09-23T01:30:10.566355Z",
     "iopub.status.busy": "2022-09-23T01:30:10.565939Z",
     "iopub.status.idle": "2022-09-23T01:30:10.581626Z",
     "shell.execute_reply": "2022-09-23T01:30:10.580276Z"
    },
    "id": "p11HTlx74aVj",
    "outputId": "f660f917-7f11-4aa8-ff16-53598c90699f",
    "papermill": {
     "duration": 0.026274,
     "end_time": "2022-09-23T01:30:10.584020",
     "exception": false,
     "start_time": "2022-09-23T01:30:10.557746",
     "status": "completed"
    },
    "tags": []
   },
   "outputs": [
    {
     "data": {
      "text/html": [
       "<div>\n",
       "<style scoped>\n",
       "    .dataframe tbody tr th:only-of-type {\n",
       "        vertical-align: middle;\n",
       "    }\n",
       "\n",
       "    .dataframe tbody tr th {\n",
       "        vertical-align: top;\n",
       "    }\n",
       "\n",
       "    .dataframe thead th {\n",
       "        text-align: right;\n",
       "    }\n",
       "</style>\n",
       "<table border=\"1\" class=\"dataframe\">\n",
       "  <thead>\n",
       "    <tr style=\"text-align: right;\">\n",
       "      <th></th>\n",
       "      <th>Random Forest</th>\n",
       "      <th>Gradient Boosting</th>\n",
       "      <th>LGBM</th>\n",
       "    </tr>\n",
       "  </thead>\n",
       "  <tbody>\n",
       "    <tr>\n",
       "      <th>Mean Absolute Error (MAE)</th>\n",
       "      <td>2.609109</td>\n",
       "      <td>2.546833</td>\n",
       "      <td>3.496220</td>\n",
       "    </tr>\n",
       "    <tr>\n",
       "      <th>Mean Squared Error (MSE)</th>\n",
       "      <td>13.813117</td>\n",
       "      <td>12.287712</td>\n",
       "      <td>20.629317</td>\n",
       "    </tr>\n",
       "    <tr>\n",
       "      <th>Root Mean Squared Error (RMSE)</th>\n",
       "      <td>3.716600</td>\n",
       "      <td>3.505383</td>\n",
       "      <td>4.541951</td>\n",
       "    </tr>\n",
       "    <tr>\n",
       "      <th>Adjusted R^2 Score</th>\n",
       "      <td>0.813873</td>\n",
       "      <td>0.834427</td>\n",
       "      <td>0.722027</td>\n",
       "    </tr>\n",
       "    <tr>\n",
       "      <th>Root Mean Squared Log Error</th>\n",
       "      <td>1.312809</td>\n",
       "      <td>1.254300</td>\n",
       "      <td>1.513357</td>\n",
       "    </tr>\n",
       "  </tbody>\n",
       "</table>\n",
       "</div>"
      ],
      "text/plain": [
       "                                Random Forest  Gradient Boosting       LGBM\n",
       "Mean Absolute Error (MAE)            2.609109           2.546833   3.496220\n",
       "Mean Squared Error (MSE)            13.813117          12.287712  20.629317\n",
       "Root Mean Squared Error (RMSE)       3.716600           3.505383   4.541951\n",
       "Adjusted R^2 Score                   0.813873           0.834427   0.722027\n",
       "Root Mean Squared Log Error          1.312809           1.254300   1.513357"
      ]
     },
     "execution_count": 12,
     "metadata": {},
     "output_type": "execute_result"
    }
   ],
   "source": [
    "results"
   ]
  },
  {
   "cell_type": "markdown",
   "id": "e275a00c",
   "metadata": {
    "id": "GCsnZF6Fy9d1",
    "papermill": {
     "duration": 0.008415,
     "end_time": "2022-09-23T01:30:10.599318",
     "exception": false,
     "start_time": "2022-09-23T01:30:10.590903",
     "status": "completed"
    },
    "tags": []
   },
   "source": [
    "<div id=\"job_title\"> \n",
    "    <h2  style=\"font-family:Baskerville\">Plotly scatter plot</h2>\n",
    "</div>"
   ]
  },
  {
   "cell_type": "code",
   "execution_count": 13,
   "id": "37338d59",
   "metadata": {
    "execution": {
     "iopub.execute_input": "2022-09-23T01:30:10.615260Z",
     "iopub.status.busy": "2022-09-23T01:30:10.614853Z",
     "iopub.status.idle": "2022-09-23T01:30:10.769724Z",
     "shell.execute_reply": "2022-09-23T01:30:10.768634Z"
    },
    "id": "BNzoeecr2wtY",
    "outputId": "fec8690b-fb6f-49d4-9448-508792043618",
    "papermill": {
     "duration": 0.165068,
     "end_time": "2022-09-23T01:30:10.772123",
     "exception": false,
     "start_time": "2022-09-23T01:30:10.607055",
     "status": "completed"
    },
    "tags": []
   },
   "outputs": [
    {
     "data": {
      "text/html": [
       "        <script type=\"text/javascript\">\n",
       "        window.PlotlyConfig = {MathJaxConfig: 'local'};\n",
       "        if (window.MathJax && window.MathJax.Hub && window.MathJax.Hub.Config) {window.MathJax.Hub.Config({SVG: {font: \"STIX-Web\"}});}\n",
       "        if (typeof require !== 'undefined') {\n",
       "        require.undef(\"plotly\");\n",
       "        requirejs.config({\n",
       "            paths: {\n",
       "                'plotly': ['https://cdn.plot.ly/plotly-2.14.0.min']\n",
       "            }\n",
       "        });\n",
       "        require(['plotly'], function(Plotly) {\n",
       "            window._Plotly = Plotly;\n",
       "        });\n",
       "        }\n",
       "        </script>\n",
       "        "
      ]
     },
     "metadata": {},
     "output_type": "display_data"
    },
    {
     "data": {
      "text/html": [
       "<div>                            <div id=\"2fdf6602-105e-4e3c-976e-1b16a7f6bc9e\" class=\"plotly-graph-div\" style=\"height:525px; width:100%;\"></div>            <script type=\"text/javascript\">                require([\"plotly\"], function(Plotly) {                    window.PLOTLYENV=window.PLOTLYENV || {};                                    if (document.getElementById(\"2fdf6602-105e-4e3c-976e-1b16a7f6bc9e\")) {                    Plotly.newPlot(                        \"2fdf6602-105e-4e3c-976e-1b16a7f6bc9e\",                        [{\"mode\":\"markers\",\"name\":\"Random Forest\",\"x\":[6.3,8.1,8.3,8.4,8.5,10.2,10.5,10.9,11.5,11.9,12.6,12.7,13.0,13.3,13.4,13.5,13.6,13.9,14.5,14.5,14.6,14.6,14.9,15.4,15.6,16.2,16.5,16.6,16.7,17.5,17.5,18.0,18.1,18.3,18.5,18.6,18.9,19.1,19.2,19.3,19.4,19.4,19.8,20.4,20.7,20.8,21.0,21.5,21.7,21.7,21.8,21.9,22.0,22.0,22.1,22.2,22.2,22.4,22.5,22.6,22.6,22.7,22.9,22.9,22.9,23.0,23.0,23.3,23.5,23.7,23.7,23.8,23.8,23.9,23.9,24.1,24.1,24.5,24.6,25.0,25.0,26.6,27.9,27.9,28.2,28.7,29.8,30.1,31.2,34.9,36.2,37.2,37.3,41.7,43.1,44.8,48.3,50.0,50.0,50.0,50.0,50.0],\"y\":[7.44,9.911999999999995,10.388000000000003,10.991000000000007,11.494999999999997,11.645999999999992,11.662999999999997,12.429999999999996,12.431999999999992,13.412999999999993,14.27599999999999,14.511000000000001,14.79,14.808000000000002,14.952999999999996,15.148000000000003,15.400999999999996,15.837999999999996,16.694999999999993,16.96299999999999,17.269000000000016,17.35099999999999,17.636,17.76499999999999,17.804999999999993,17.830999999999996,17.972000000000005,17.99899999999998,18.00000000000001,18.230999999999995,18.297999999999995,18.336999999999993,18.576,19.10700000000001,19.197999999999983,19.374,19.560999999999996,19.563999999999993,19.582999999999984,19.672999999999995,19.812999999999988,20.000000000000004,20.17199999999998,20.202000000000005,20.25099999999999,20.309000000000005,20.45900000000001,20.528999999999993,20.552999999999997,20.59299999999999,20.655000000000005,20.658,20.859000000000005,21.013999999999996,21.085,21.09499999999999,21.133999999999986,21.368,21.383999999999997,21.580999999999996,21.77200000000002,21.952000000000012,22.342,22.541000000000004,22.659000000000013,22.741,22.89099999999999,22.903000000000006,22.944000000000003,22.960999999999995,23.350999999999985,23.379999999999995,23.901999999999997,23.94200000000002,24.098,24.422000000000015,24.53099999999999,24.650000000000006,24.709999999999987,24.860000000000014,24.88199999999998,25.797999999999988,26.040999999999993,26.78599999999999,28.181000000000008,28.530999999999985,28.841999999999995,29.289,32.52899999999999,32.60199999999999,33.96000000000001,34.00799999999998,34.785999999999966,34.92299999999997,35.32000000000002,35.664,36.567,41.92400000000001,42.52099999999999,43.371,44.60200000000002],\"type\":\"scatter\"},{\"mode\":\"markers\",\"name\":\"Gradient Boosting\",\"x\":[6.3,8.1,8.3,8.4,8.5,10.2,10.5,10.9,11.5,11.9,12.6,12.7,13.0,13.3,13.4,13.5,13.6,13.9,14.5,14.5,14.6,14.6,14.9,15.4,15.6,16.2,16.5,16.6,16.7,17.5,17.5,18.0,18.1,18.3,18.5,18.6,18.9,19.1,19.2,19.3,19.4,19.4,19.8,20.4,20.7,20.8,21.0,21.5,21.7,21.7,21.8,21.9,22.0,22.0,22.1,22.2,22.2,22.4,22.5,22.6,22.6,22.7,22.9,22.9,22.9,23.0,23.0,23.3,23.5,23.7,23.7,23.8,23.8,23.9,23.9,24.1,24.1,24.5,24.6,25.0,25.0,26.6,27.9,27.9,28.2,28.7,29.8,30.1,31.2,34.9,36.2,37.2,37.3,41.7,43.1,44.8,48.3,50.0,50.0,50.0,50.0,50.0],\"y\":[5.777270168504117,7.628426270089514,10.201887929765551,10.807027634879088,12.734848838513074,12.745736118966672,12.955615876900213,13.279334900080217,13.512452374611634,13.854705694592067,14.3868243840004,14.470166008476683,14.64270282262111,14.961618512386336,15.875720838131793,16.042868473808127,16.100422231444362,16.116530288538986,16.26488685274285,16.31610963677385,16.815663118268976,17.078814471771572,17.273607594905478,17.899980749227563,17.949547184375376,17.984187950843612,18.079388634558473,18.095892886357884,18.167240662369213,18.386552172047843,18.558412931575685,18.697038428871103,18.8923343954523,19.22427724280451,19.225459162533515,19.278181498390392,19.412862919969037,19.448235604560143,19.544074333667133,19.718460226377136,19.79820722944385,19.939388855594146,20.00998003047142,20.02460103542961,20.14813076479745,20.178772827281986,20.41366858701313,20.479560732674955,20.531139195493484,20.621823019199056,20.655586019386465,20.963940454920344,21.096349046717524,21.128544835217202,21.138284694207048,21.426495770472723,21.42789212605845,21.54249632710826,21.59620061994452,21.71583165716825,22.005258823322052,22.102553962711173,22.185050183602847,22.254075466695117,22.430789664529424,22.475111050218963,22.649035868925704,22.69278449993566,22.933476319188703,23.094903749549104,23.220839735234364,23.387430581654776,23.400807851063828,23.47010853579441,23.52148047021905,23.566049196711116,24.256115515607664,24.747219336296567,24.773149005875148,26.052803989241312,27.23556497248363,27.486727108995815,27.62107801584593,27.763244224814986,28.40520267262888,30.36481245736181,30.49204156296897,31.258549931035745,32.25030268006671,32.427841186669866,32.67248225168538,32.73983050719158,33.594575427334604,34.90272776538467,36.95014411582028,37.113627278505334,37.774864598538365,41.14859690183448,45.1188024768176,45.97486530064206,46.27114958303695],\"type\":\"scatter\"},{\"mode\":\"markers\",\"name\":\"LGBM\",\"x\":[6.3,8.1,8.3,8.4,8.5,10.2,10.5,10.9,11.5,11.9,12.6,12.7,13.0,13.3,13.4,13.5,13.6,13.9,14.5,14.5,14.6,14.6,14.9,15.4,15.6,16.2,16.5,16.6,16.7,17.5,17.5,18.0,18.1,18.3,18.5,18.6,18.9,19.1,19.2,19.3,19.4,19.4,19.8,20.4,20.7,20.8,21.0,21.5,21.7,21.7,21.8,21.9,22.0,22.0,22.1,22.2,22.2,22.4,22.5,22.6,22.6,22.7,22.9,22.9,22.9,23.0,23.0,23.3,23.5,23.7,23.7,23.8,23.8,23.9,23.9,24.1,24.1,24.5,24.6,25.0,25.0,26.6,27.9,27.9,28.2,28.7,29.8,30.1,31.2,34.9,36.2,37.2,37.3,41.7,43.1,44.8,48.3,50.0,50.0,50.0,50.0,50.0],\"y\":[7.376075204206295,8.143524098826683,8.593430888403677,8.618208837538262,9.58784116476105,10.42765464692148,11.291571546747958,12.085607993956426,12.35221626383814,12.59245849343493,12.72765487948679,12.786049317162194,13.67527977096443,13.850622784942697,14.58903119664043,14.89606405332767,15.174542662081711,15.393836462862376,15.436306717793368,15.862265101621347,16.060319045306404,16.72791519402453,17.045872515529464,17.07311956645795,17.092593662004138,17.124803810842952,17.554087635454014,17.64677218750332,18.049175936556033,18.321123936761968,18.515026347582868,18.584868484723316,18.914217101642496,18.981039239984025,19.374280970678196,19.613935514116175,19.764358435152317,20.005281638518838,20.110299599013583,20.257859096590252,20.37844503835091,20.468832451723415,20.682284778866485,20.70960236705322,20.928814227058677,21.067287007182642,21.072131827977238,21.142863459360072,21.4717504225332,21.625153910428036,21.680650685326967,21.708118409014293,21.75432809377978,21.812882550130357,21.847327254305824,21.848198948875027,22.04202624145816,22.15520842502243,22.68403898397015,22.810916598961676,22.953652134748676,23.08203501812151,23.125314372406525,23.142784437631327,23.79772200064754,23.828760965931366,23.879781438336334,24.172254103150983,24.21035981083556,24.68899152451266,25.545846893653653,25.63541735770106,25.688463497503335,25.921017867137245,25.9538973861279,26.39749057341046,26.43219127381815,26.864803244741353,26.957052463891024,27.115665506025614,27.734978216377677,27.92774018473123,27.943218487835892,27.948940272782913,28.631049856461278,28.75548019255581,28.86372382554737,30.13760435183281,30.33318758488201,30.550315129252404,30.92092740946938,31.162323205744123,31.31381943085928,31.51424131799308,32.279210086836706,35.94592380893552,36.46729514376517,36.57074433054371,39.246654389346936,43.06657240330917,43.67860555485957],\"type\":\"scatter\"},{\"mode\":\"lines\",\"name\":\"Expected results\",\"x\":[6.3,8.1,8.3,8.4,8.5,10.2,10.5,10.9,11.5,11.9,12.6,12.7,13.0,13.3,13.4,13.5,13.6,13.9,14.5,14.5,14.6,14.6,14.9,15.4,15.6,16.2,16.5,16.6,16.7,17.5,17.5,18.0,18.1,18.3,18.5,18.6,18.9,19.1,19.2,19.3,19.4,19.4,19.8,20.4,20.7,20.8,21.0,21.5,21.7,21.7,21.8,21.9,22.0,22.0,22.1,22.2,22.2,22.4,22.5,22.6,22.6,22.7,22.9,22.9,22.9,23.0,23.0,23.3,23.5,23.7,23.7,23.8,23.8,23.9,23.9,24.1,24.1,24.5,24.6,25.0,25.0,26.6,27.9,27.9,28.2,28.7,29.8,30.1,31.2,34.9,36.2,37.2,37.3,41.7,43.1,44.8,48.3,50.0,50.0,50.0,50.0,50.0],\"y\":[6.3,8.1,8.3,8.4,8.5,10.2,10.5,10.9,11.5,11.9,12.6,12.7,13.0,13.3,13.4,13.5,13.6,13.9,14.5,14.5,14.6,14.6,14.9,15.4,15.6,16.2,16.5,16.6,16.7,17.5,17.5,18.0,18.1,18.3,18.5,18.6,18.9,19.1,19.2,19.3,19.4,19.4,19.8,20.4,20.7,20.8,21.0,21.5,21.7,21.7,21.8,21.9,22.0,22.0,22.1,22.2,22.2,22.4,22.5,22.6,22.6,22.7,22.9,22.9,22.9,23.0,23.0,23.3,23.5,23.7,23.7,23.8,23.8,23.9,23.9,24.1,24.1,24.5,24.6,25.0,25.0,26.6,27.9,27.9,28.2,28.7,29.8,30.1,31.2,34.9,36.2,37.2,37.3,41.7,43.1,44.8,48.3,50.0,50.0,50.0,50.0,50.0],\"type\":\"scatter\"}],                        {\"template\":{\"data\":{\"histogram2dcontour\":[{\"type\":\"histogram2dcontour\",\"colorbar\":{\"outlinewidth\":0,\"ticks\":\"\"},\"colorscale\":[[0.0,\"#0d0887\"],[0.1111111111111111,\"#46039f\"],[0.2222222222222222,\"#7201a8\"],[0.3333333333333333,\"#9c179e\"],[0.4444444444444444,\"#bd3786\"],[0.5555555555555556,\"#d8576b\"],[0.6666666666666666,\"#ed7953\"],[0.7777777777777778,\"#fb9f3a\"],[0.8888888888888888,\"#fdca26\"],[1.0,\"#f0f921\"]]}],\"choropleth\":[{\"type\":\"choropleth\",\"colorbar\":{\"outlinewidth\":0,\"ticks\":\"\"}}],\"histogram2d\":[{\"type\":\"histogram2d\",\"colorbar\":{\"outlinewidth\":0,\"ticks\":\"\"},\"colorscale\":[[0.0,\"#0d0887\"],[0.1111111111111111,\"#46039f\"],[0.2222222222222222,\"#7201a8\"],[0.3333333333333333,\"#9c179e\"],[0.4444444444444444,\"#bd3786\"],[0.5555555555555556,\"#d8576b\"],[0.6666666666666666,\"#ed7953\"],[0.7777777777777778,\"#fb9f3a\"],[0.8888888888888888,\"#fdca26\"],[1.0,\"#f0f921\"]]}],\"heatmap\":[{\"type\":\"heatmap\",\"colorbar\":{\"outlinewidth\":0,\"ticks\":\"\"},\"colorscale\":[[0.0,\"#0d0887\"],[0.1111111111111111,\"#46039f\"],[0.2222222222222222,\"#7201a8\"],[0.3333333333333333,\"#9c179e\"],[0.4444444444444444,\"#bd3786\"],[0.5555555555555556,\"#d8576b\"],[0.6666666666666666,\"#ed7953\"],[0.7777777777777778,\"#fb9f3a\"],[0.8888888888888888,\"#fdca26\"],[1.0,\"#f0f921\"]]}],\"heatmapgl\":[{\"type\":\"heatmapgl\",\"colorbar\":{\"outlinewidth\":0,\"ticks\":\"\"},\"colorscale\":[[0.0,\"#0d0887\"],[0.1111111111111111,\"#46039f\"],[0.2222222222222222,\"#7201a8\"],[0.3333333333333333,\"#9c179e\"],[0.4444444444444444,\"#bd3786\"],[0.5555555555555556,\"#d8576b\"],[0.6666666666666666,\"#ed7953\"],[0.7777777777777778,\"#fb9f3a\"],[0.8888888888888888,\"#fdca26\"],[1.0,\"#f0f921\"]]}],\"contourcarpet\":[{\"type\":\"contourcarpet\",\"colorbar\":{\"outlinewidth\":0,\"ticks\":\"\"}}],\"contour\":[{\"type\":\"contour\",\"colorbar\":{\"outlinewidth\":0,\"ticks\":\"\"},\"colorscale\":[[0.0,\"#0d0887\"],[0.1111111111111111,\"#46039f\"],[0.2222222222222222,\"#7201a8\"],[0.3333333333333333,\"#9c179e\"],[0.4444444444444444,\"#bd3786\"],[0.5555555555555556,\"#d8576b\"],[0.6666666666666666,\"#ed7953\"],[0.7777777777777778,\"#fb9f3a\"],[0.8888888888888888,\"#fdca26\"],[1.0,\"#f0f921\"]]}],\"surface\":[{\"type\":\"surface\",\"colorbar\":{\"outlinewidth\":0,\"ticks\":\"\"},\"colorscale\":[[0.0,\"#0d0887\"],[0.1111111111111111,\"#46039f\"],[0.2222222222222222,\"#7201a8\"],[0.3333333333333333,\"#9c179e\"],[0.4444444444444444,\"#bd3786\"],[0.5555555555555556,\"#d8576b\"],[0.6666666666666666,\"#ed7953\"],[0.7777777777777778,\"#fb9f3a\"],[0.8888888888888888,\"#fdca26\"],[1.0,\"#f0f921\"]]}],\"mesh3d\":[{\"type\":\"mesh3d\",\"colorbar\":{\"outlinewidth\":0,\"ticks\":\"\"}}],\"scatter\":[{\"fillpattern\":{\"fillmode\":\"overlay\",\"size\":10,\"solidity\":0.2},\"type\":\"scatter\"}],\"parcoords\":[{\"type\":\"parcoords\",\"line\":{\"colorbar\":{\"outlinewidth\":0,\"ticks\":\"\"}}}],\"scatterpolargl\":[{\"type\":\"scatterpolargl\",\"marker\":{\"colorbar\":{\"outlinewidth\":0,\"ticks\":\"\"}}}],\"bar\":[{\"error_x\":{\"color\":\"#2a3f5f\"},\"error_y\":{\"color\":\"#2a3f5f\"},\"marker\":{\"line\":{\"color\":\"#E5ECF6\",\"width\":0.5},\"pattern\":{\"fillmode\":\"overlay\",\"size\":10,\"solidity\":0.2}},\"type\":\"bar\"}],\"scattergeo\":[{\"type\":\"scattergeo\",\"marker\":{\"colorbar\":{\"outlinewidth\":0,\"ticks\":\"\"}}}],\"scatterpolar\":[{\"type\":\"scatterpolar\",\"marker\":{\"colorbar\":{\"outlinewidth\":0,\"ticks\":\"\"}}}],\"histogram\":[{\"marker\":{\"pattern\":{\"fillmode\":\"overlay\",\"size\":10,\"solidity\":0.2}},\"type\":\"histogram\"}],\"scattergl\":[{\"type\":\"scattergl\",\"marker\":{\"colorbar\":{\"outlinewidth\":0,\"ticks\":\"\"}}}],\"scatter3d\":[{\"type\":\"scatter3d\",\"line\":{\"colorbar\":{\"outlinewidth\":0,\"ticks\":\"\"}},\"marker\":{\"colorbar\":{\"outlinewidth\":0,\"ticks\":\"\"}}}],\"scattermapbox\":[{\"type\":\"scattermapbox\",\"marker\":{\"colorbar\":{\"outlinewidth\":0,\"ticks\":\"\"}}}],\"scatterternary\":[{\"type\":\"scatterternary\",\"marker\":{\"colorbar\":{\"outlinewidth\":0,\"ticks\":\"\"}}}],\"scattercarpet\":[{\"type\":\"scattercarpet\",\"marker\":{\"colorbar\":{\"outlinewidth\":0,\"ticks\":\"\"}}}],\"carpet\":[{\"aaxis\":{\"endlinecolor\":\"#2a3f5f\",\"gridcolor\":\"white\",\"linecolor\":\"white\",\"minorgridcolor\":\"white\",\"startlinecolor\":\"#2a3f5f\"},\"baxis\":{\"endlinecolor\":\"#2a3f5f\",\"gridcolor\":\"white\",\"linecolor\":\"white\",\"minorgridcolor\":\"white\",\"startlinecolor\":\"#2a3f5f\"},\"type\":\"carpet\"}],\"table\":[{\"cells\":{\"fill\":{\"color\":\"#EBF0F8\"},\"line\":{\"color\":\"white\"}},\"header\":{\"fill\":{\"color\":\"#C8D4E3\"},\"line\":{\"color\":\"white\"}},\"type\":\"table\"}],\"barpolar\":[{\"marker\":{\"line\":{\"color\":\"#E5ECF6\",\"width\":0.5},\"pattern\":{\"fillmode\":\"overlay\",\"size\":10,\"solidity\":0.2}},\"type\":\"barpolar\"}],\"pie\":[{\"automargin\":true,\"type\":\"pie\"}]},\"layout\":{\"autotypenumbers\":\"strict\",\"colorway\":[\"#636efa\",\"#EF553B\",\"#00cc96\",\"#ab63fa\",\"#FFA15A\",\"#19d3f3\",\"#FF6692\",\"#B6E880\",\"#FF97FF\",\"#FECB52\"],\"font\":{\"color\":\"#2a3f5f\"},\"hovermode\":\"closest\",\"hoverlabel\":{\"align\":\"left\"},\"paper_bgcolor\":\"white\",\"plot_bgcolor\":\"#E5ECF6\",\"polar\":{\"bgcolor\":\"#E5ECF6\",\"angularaxis\":{\"gridcolor\":\"white\",\"linecolor\":\"white\",\"ticks\":\"\"},\"radialaxis\":{\"gridcolor\":\"white\",\"linecolor\":\"white\",\"ticks\":\"\"}},\"ternary\":{\"bgcolor\":\"#E5ECF6\",\"aaxis\":{\"gridcolor\":\"white\",\"linecolor\":\"white\",\"ticks\":\"\"},\"baxis\":{\"gridcolor\":\"white\",\"linecolor\":\"white\",\"ticks\":\"\"},\"caxis\":{\"gridcolor\":\"white\",\"linecolor\":\"white\",\"ticks\":\"\"}},\"coloraxis\":{\"colorbar\":{\"outlinewidth\":0,\"ticks\":\"\"}},\"colorscale\":{\"sequential\":[[0.0,\"#0d0887\"],[0.1111111111111111,\"#46039f\"],[0.2222222222222222,\"#7201a8\"],[0.3333333333333333,\"#9c179e\"],[0.4444444444444444,\"#bd3786\"],[0.5555555555555556,\"#d8576b\"],[0.6666666666666666,\"#ed7953\"],[0.7777777777777778,\"#fb9f3a\"],[0.8888888888888888,\"#fdca26\"],[1.0,\"#f0f921\"]],\"sequentialminus\":[[0.0,\"#0d0887\"],[0.1111111111111111,\"#46039f\"],[0.2222222222222222,\"#7201a8\"],[0.3333333333333333,\"#9c179e\"],[0.4444444444444444,\"#bd3786\"],[0.5555555555555556,\"#d8576b\"],[0.6666666666666666,\"#ed7953\"],[0.7777777777777778,\"#fb9f3a\"],[0.8888888888888888,\"#fdca26\"],[1.0,\"#f0f921\"]],\"diverging\":[[0,\"#8e0152\"],[0.1,\"#c51b7d\"],[0.2,\"#de77ae\"],[0.3,\"#f1b6da\"],[0.4,\"#fde0ef\"],[0.5,\"#f7f7f7\"],[0.6,\"#e6f5d0\"],[0.7,\"#b8e186\"],[0.8,\"#7fbc41\"],[0.9,\"#4d9221\"],[1,\"#276419\"]]},\"xaxis\":{\"gridcolor\":\"white\",\"linecolor\":\"white\",\"ticks\":\"\",\"title\":{\"standoff\":15},\"zerolinecolor\":\"white\",\"automargin\":true,\"zerolinewidth\":2},\"yaxis\":{\"gridcolor\":\"white\",\"linecolor\":\"white\",\"ticks\":\"\",\"title\":{\"standoff\":15},\"zerolinecolor\":\"white\",\"automargin\":true,\"zerolinewidth\":2},\"scene\":{\"xaxis\":{\"backgroundcolor\":\"#E5ECF6\",\"gridcolor\":\"white\",\"linecolor\":\"white\",\"showbackground\":true,\"ticks\":\"\",\"zerolinecolor\":\"white\",\"gridwidth\":2},\"yaxis\":{\"backgroundcolor\":\"#E5ECF6\",\"gridcolor\":\"white\",\"linecolor\":\"white\",\"showbackground\":true,\"ticks\":\"\",\"zerolinecolor\":\"white\",\"gridwidth\":2},\"zaxis\":{\"backgroundcolor\":\"#E5ECF6\",\"gridcolor\":\"white\",\"linecolor\":\"white\",\"showbackground\":true,\"ticks\":\"\",\"zerolinecolor\":\"white\",\"gridwidth\":2}},\"shapedefaults\":{\"line\":{\"color\":\"#2a3f5f\"}},\"annotationdefaults\":{\"arrowcolor\":\"#2a3f5f\",\"arrowhead\":0,\"arrowwidth\":1},\"geo\":{\"bgcolor\":\"white\",\"landcolor\":\"#E5ECF6\",\"subunitcolor\":\"white\",\"showland\":true,\"showlakes\":true,\"lakecolor\":\"white\"},\"title\":{\"x\":0.05},\"mapbox\":{\"style\":\"light\"}}},\"title\":{\"font\":{\"size\":30},\"text\":\"Models predictions\",\"x\":0.5}},                        {\"responsive\": true}                    ).then(function(){\n",
       "                            \n",
       "var gd = document.getElementById('2fdf6602-105e-4e3c-976e-1b16a7f6bc9e');\n",
       "var x = new MutationObserver(function (mutations, observer) {{\n",
       "        var display = window.getComputedStyle(gd).display;\n",
       "        if (!display || display === 'none') {{\n",
       "            console.log([gd, 'removed!']);\n",
       "            Plotly.purge(gd);\n",
       "            observer.disconnect();\n",
       "        }}\n",
       "}});\n",
       "\n",
       "// Listen for the removal of the full notebook cells\n",
       "var notebookContainer = gd.closest('#notebook-container');\n",
       "if (notebookContainer) {{\n",
       "    x.observe(notebookContainer, {childList: true});\n",
       "}}\n",
       "\n",
       "// Listen for the clearing of the current output cell\n",
       "var outputEl = gd.closest('.output');\n",
       "if (outputEl) {{\n",
       "    x.observe(outputEl, {childList: true});\n",
       "}}\n",
       "\n",
       "                        })                };                });            </script>        </div>"
      ]
     },
     "metadata": {},
     "output_type": "display_data"
    }
   ],
   "source": [
    "import plotly.graph_objects as go\n",
    "%matplotlib inline\n",
    "\n",
    "fig = go.Figure()\n",
    "fig.update_layout(title_text=\"Models predictions\",\n",
    "                  title_font_size=30,\n",
    "                  title_x=0.5)\n",
    "\n",
    "for model in predictions:\n",
    "    if model == 'Validation': continue\n",
    "    fig.add_trace(go.Scatter(x=np.sort(y_test), y=predictions[model].sort_values(),\n",
    "                    mode='markers',\n",
    "                    name=model))\n",
    "\n",
    "fig.add_trace(go.Scatter(x=np.sort(y_test), y=np.sort(y_test),\n",
    "                    mode='lines',\n",
    "                    name='Expected results'))"
   ]
  }
 ],
 "metadata": {
  "kernelspec": {
   "display_name": "Python 3",
   "language": "python",
   "name": "python3"
  },
  "language_info": {
   "codemirror_mode": {
    "name": "ipython",
    "version": 3
   },
   "file_extension": ".py",
   "mimetype": "text/x-python",
   "name": "python",
   "nbconvert_exporter": "python",
   "pygments_lexer": "ipython3",
   "version": "3.7.12"
  },
  "papermill": {
   "default_parameters": {},
   "duration": 32.871859,
   "end_time": "2022-09-23T01:30:11.606165",
   "environment_variables": {},
   "exception": null,
   "input_path": "__notebook__.ipynb",
   "output_path": "__notebook__.ipynb",
   "parameters": {},
   "start_time": "2022-09-23T01:29:38.734306",
   "version": "2.3.4"
  }
 },
 "nbformat": 4,
 "nbformat_minor": 5
}
